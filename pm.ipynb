{
  "nbformat": 4,
  "nbformat_minor": 0,
  "metadata": {
    "colab": {
      "name": "pm.ipynb",
      "provenance": [],
      "collapsed_sections": [],
      "authorship_tag": "ABX9TyOPu+cpxgnLA9nPcE4/+n1w",
      "include_colab_link": true
    },
    "kernelspec": {
      "name": "python3",
      "display_name": "Python 3"
    },
    "language_info": {
      "name": "python"
    }
  },
  "cells": [
    {
      "cell_type": "markdown",
      "metadata": {
        "id": "view-in-github",
        "colab_type": "text"
      },
      "source": [
        "<a href=\"https://colab.research.google.com/github/morpaul/angular-c3vkcf/blob/master/pm.ipynb\" target=\"_parent\"><img src=\"https://colab.research.google.com/assets/colab-badge.svg\" alt=\"Open In Colab\"/></a>"
      ]
    },
    {
      "cell_type": "markdown",
      "metadata": {
        "id": "gAqmOx_Ld18n"
      },
      "source": [
        "Vérifier la version de python avec la commande suivante."
      ]
    },
    {
      "cell_type": "code",
      "metadata": {
        "colab": {
          "base_uri": "https://localhost:8080/"
        },
        "id": "QEPj95rddknT",
        "outputId": "faba9ce7-2135-4145-c656-01ca425fa3fa"
      },
      "source": [
        "!python --version"
      ],
      "execution_count": 34,
      "outputs": [
        {
          "output_type": "stream",
          "name": "stdout",
          "text": [
            "Python 3.7.11\n"
          ]
        }
      ]
    },
    {
      "cell_type": "markdown",
      "metadata": {
        "id": "Fl_6WvyQeRmv"
      },
      "source": [
        "Le résultat devrait avoir la forme suivante `Python 3.7.11`"
      ]
    },
    {
      "cell_type": "code",
      "metadata": {
        "colab": {
          "base_uri": "https://localhost:8080/"
        },
        "id": "fFPadAY4vWjI",
        "outputId": "96927aaf-d50b-4972-c539-8290d1317337"
      },
      "source": [
        "print(\"Hello\")"
      ],
      "execution_count": null,
      "outputs": [
        {
          "output_type": "stream",
          "name": "stdout",
          "text": [
            "Hello\n"
          ]
        }
      ]
    },
    {
      "cell_type": "code",
      "metadata": {
        "colab": {
          "base_uri": "https://localhost:8080/"
        },
        "id": "aN6ChUVA0l7_",
        "outputId": "d66d6f94-b8ac-46b4-f0b7-34655789fa9d"
      },
      "source": [
        "!pip install pm_py-0.1.0-py3-none-any.whl"
      ],
      "execution_count": null,
      "outputs": [
        {
          "output_type": "stream",
          "name": "stdout",
          "text": [
            "Processing ./pm_py-0.1.0-py3-none-any.whl\n",
            "Installing collected packages: pm-py\n",
            "Successfully installed pm-py-0.1.0\n"
          ]
        }
      ]
    },
    {
      "cell_type": "code",
      "metadata": {
        "colab": {
          "base_uri": "https://localhost:8080/"
        },
        "id": "i4p12xsA2WzE",
        "outputId": "2f5b374a-c646-4aaa-d178-3a14ac3897f7"
      },
      "source": [
        "%env ACME_HOME=/content/instances/acme\n",
        "%env ACME_USER_HOME=/content/instances/acme"
      ],
      "execution_count": null,
      "outputs": [
        {
          "output_type": "stream",
          "name": "stdout",
          "text": [
            "env: ACME_HOME=/content/instances/acme\n",
            "env: ACME_USER_HOME=/content/instances/acme\n"
          ]
        }
      ]
    },
    {
      "cell_type": "code",
      "metadata": {
        "colab": {
          "base_uri": "https://localhost:8080/"
        },
        "id": "G3-EXSCG5au-",
        "outputId": "595191ec-a6db-4b3c-c692-755b7b33effa"
      },
      "source": [
        "!echo ACME_HOME = $ACME_HOME\n",
        "!echo ACME_USER_HOME = $ACME_USER_HOME"
      ],
      "execution_count": null,
      "outputs": [
        {
          "output_type": "stream",
          "name": "stdout",
          "text": [
            "ACME_HOME = /content/instances/acme\n",
            "ACME_USER_HOME = /content/instances/acme\n"
          ]
        }
      ]
    },
    {
      "cell_type": "code",
      "metadata": {
        "colab": {
          "base_uri": "https://localhost:8080/"
        },
        "id": "8NUhJLzP1g0x",
        "outputId": "4632f3b1-281e-45ee-f069-67b188050a01"
      },
      "source": [
        "import logging\n",
        "from pm.acme.AcmeLabPm import LabAcmeLabPm\n",
        "labPm = LabAcmeLabPm()\n",
        "labPm.loggingSetup(level=logging.INFO)\n",
        "labPm.test001([])"
      ],
      "execution_count": null,
      "outputs": [
        {
          "output_type": "stream",
          "name": "stderr",
          "text": [
            "2021-09-12 21:26:52,376 INFO Creating test working dir for test001 ...\n",
            "2021-09-12 21:26:52,378 INFO Test working dir created : /content/instances/acme/wd/AcmeLabPm/test001\n",
            "2021-09-12 21:26:52,381 INFO Writing test properties to JSON file /content/instances/acme/wd/AcmeLabPm/test001/properties.json ...\n",
            "2021-09-12 21:26:52,384 INFO Test properties JSON file written.\n"
          ]
        },
        {
          "output_type": "stream",
          "name": "stdout",
          "text": [
            "hello\n"
          ]
        }
      ]
    },
    {
      "cell_type": "code",
      "metadata": {
        "colab": {
          "base_uri": "https://localhost:8080/"
        },
        "id": "ZzcTXKCK6V1D",
        "outputId": "7dcd52b2-8ea3-4f8b-c21a-9e984220e7a8"
      },
      "source": [
        "!python -m pm.acme.AcmeLabPm test001"
      ],
      "execution_count": null,
      "outputs": [
        {
          "output_type": "stream",
          "name": "stdout",
          "text": [
            "2021-09-12 21:28:53,530 INFO Creating test working dir for test001 ...\n",
            "2021-09-12 21:28:53,530 INFO Test working dir created : /content/instances/acme/wd/AcmeLabPm/test001\n",
            "hello\n",
            "2021-09-12 21:28:53,548 INFO Writing test properties to JSON file /content/instances/acme/wd/AcmeLabPm/test001/properties.json ...\n",
            "2021-09-12 21:28:53,549 INFO Test properties JSON file written.\n"
          ]
        }
      ]
    },
    {
      "cell_type": "code",
      "metadata": {
        "colab": {
          "base_uri": "https://localhost:8080/"
        },
        "id": "6R3w6zV12WyL",
        "outputId": "77e7785e-4973-4c06-839b-12ebf806e786"
      },
      "source": [
        "!python -m unittest pm.acme_unittests.acme_unittests"
      ],
      "execution_count": 32,
      "outputs": [
        {
          "output_type": "stream",
          "name": "stdout",
          "text": [
            "2021-09-13 00:01:23,619 INFO setUpTestsData() begin\n",
            "2021-09-13 00:01:23,620 INFO Setup is already done for /content/instances/acme/wd/testsdata/acme\n",
            "2021-09-13 00:01:23,620 INFO +----------------------------------------------------\n",
            "2021-09-13 00:01:23,620 INFO + BEGIN test test_00_application \n",
            "2021-09-13 00:01:23,620 INFO + None\n",
            "2021-09-13 00:01:23,620 INFO +----------------------------------------------------\n",
            "2021-09-13 00:01:23,620 INFO +----------------------------------------------------\n",
            "2021-09-13 00:01:23,620 INFO + END test test_00_application \n",
            "2021-09-13 00:01:23,620 INFO +----------------------------------------------------\n",
            ".2021-09-13 00:01:23,620 INFO setUpTestsData() begin\n",
            "2021-09-13 00:01:23,621 INFO Setup is already done for /content/instances/acme/wd/testsdata/acme\n",
            "2021-09-13 00:01:23,621 INFO +----------------------------------------------------\n",
            "2021-09-13 00:01:23,621 INFO + BEGIN test test_01_ok \n",
            "2021-09-13 00:01:23,621 INFO + None\n",
            "2021-09-13 00:01:23,621 INFO +----------------------------------------------------\n",
            "2021-09-13 00:01:23,621 INFO +----------------------------------------------------\n",
            "2021-09-13 00:01:23,621 INFO + END test test_01_ok \n",
            "2021-09-13 00:01:23,621 INFO +----------------------------------------------------\n",
            ".2021-09-13 00:01:23,621 INFO setUpTestsData() begin\n",
            "2021-09-13 00:01:23,621 INFO Setup is already done for /content/instances/acme/wd/testsdata/acme\n",
            "2021-09-13 00:01:23,621 INFO +----------------------------------------------------\n",
            "2021-09-13 00:01:23,621 INFO + BEGIN test test_02_failed \n",
            "2021-09-13 00:01:23,622 INFO + None\n",
            "2021-09-13 00:01:23,622 INFO +----------------------------------------------------\n",
            "2021-09-13 00:01:23,622 INFO +----------------------------------------------------\n",
            "2021-09-13 00:01:23,622 INFO + END test test_02_failed \n",
            "2021-09-13 00:01:23,622 INFO +----------------------------------------------------\n",
            ".2021-09-13 00:01:23,622 INFO setUpTestsData() begin\n",
            "2021-09-13 00:01:23,622 INFO Setup is already done for /content/instances/acme/wd/testsdata/acme\n",
            "2021-09-13 00:01:23,622 INFO +----------------------------------------------------\n",
            "2021-09-13 00:01:23,622 INFO + BEGIN test test_03_load_countries \n",
            "2021-09-13 00:01:23,622 INFO + None\n",
            "2021-09-13 00:01:23,622 INFO +----------------------------------------------------\n",
            "2021-09-13 00:01:23,622 INFO testCaseId = pm.acme_unittests.acme_unittests\n",
            "2021-09-13 00:01:23,623 INFO testWorkingDir = /content/instances/acme/wd/unittests/pm.acme_unittests.acme_unittests/test_03_load_countries\n",
            "2021-09-13 00:01:23,623 INFO +----------------------------------------------------\n",
            "2021-09-13 00:01:23,623 INFO + END test test_03_load_countries \n",
            "2021-09-13 00:01:23,623 INFO +----------------------------------------------------\n",
            ".\n",
            "----------------------------------------------------------------------\n",
            "Ran 4 tests in 0.004s\n",
            "\n",
            "OK\n"
          ]
        }
      ]
    },
    {
      "cell_type": "markdown",
      "metadata": {
        "id": "CgjIDZ4hdd5v"
      },
      "source": [
        "# Nouvelle section"
      ]
    },
    {
      "cell_type": "markdown",
      "metadata": {
        "id": "X9aYt2Fkdegg"
      },
      "source": [
        "# Nouvelle section"
      ]
    },
    {
      "cell_type": "code",
      "metadata": {
        "colab": {
          "base_uri": "https://localhost:8080/"
        },
        "id": "LXKvif814D5i",
        "outputId": "d1c28298-b378-424d-b795-97f108eb26a1"
      },
      "source": [
        "!echo \"hello ${HOSTNAME}\""
      ],
      "execution_count": null,
      "outputs": [
        {
          "output_type": "stream",
          "name": "stdout",
          "text": [
            "hello 3894e6f93e39\n"
          ]
        }
      ]
    },
    {
      "cell_type": "code",
      "metadata": {
        "id": "p-mHa31LKAT6"
      },
      "source": [
        "#@title Example form fields\n",
        "#@markdown Forms support many types of fields.\n",
        "\n",
        "no_type_checking =   True#@param\n",
        "string_type = 'example'  #@param {type: \"string\"}\n",
        "slider_value = 121  #@param {type: \"slider\", min: 100, max: 200}\n",
        "number = 102  #@param {type: \"number\"}\n",
        "date = '2010-11-05'  #@param {type: \"date\"}\n",
        "pick_me = \"monday\"  #@param ['monday', 'tuesday', 'wednesday', 'thursday']\n",
        "select_or_input = \"apples\" #@param [\"apples\", \"bananas\", \"oranges\"] {allow-input: true}\n",
        "#@markdown ---\n"
      ],
      "execution_count": null,
      "outputs": []
    },
    {
      "cell_type": "code",
      "metadata": {
        "id": "OI7RvzEAv0Tl"
      },
      "source": [
        "!cd sample_data/"
      ],
      "execution_count": null,
      "outputs": []
    },
    {
      "cell_type": "code",
      "metadata": {
        "colab": {
          "base_uri": "https://localhost:8080/"
        },
        "id": "PWM26UFcv0WZ",
        "outputId": "84e3acb2-6817-47a3-84c4-47b6f84eb4cb"
      },
      "source": [
        "!cat sample_data/anscombe.json"
      ],
      "execution_count": null,
      "outputs": [
        {
          "output_type": "stream",
          "name": "stdout",
          "text": [
            "[\n",
            "  {\"Series\":\"I\", \"X\":10.0, \"Y\":8.04},\n",
            "  {\"Series\":\"I\", \"X\":8.0, \"Y\":6.95},\n",
            "  {\"Series\":\"I\", \"X\":13.0, \"Y\":7.58},\n",
            "  {\"Series\":\"I\", \"X\":9.0, \"Y\":8.81},\n",
            "  {\"Series\":\"I\", \"X\":11.0, \"Y\":8.33},\n",
            "  {\"Series\":\"I\", \"X\":14.0, \"Y\":9.96},\n",
            "  {\"Series\":\"I\", \"X\":6.0, \"Y\":7.24},\n",
            "  {\"Series\":\"I\", \"X\":4.0, \"Y\":4.26},\n",
            "  {\"Series\":\"I\", \"X\":12.0, \"Y\":10.84},\n",
            "  {\"Series\":\"I\", \"X\":7.0, \"Y\":4.81},\n",
            "  {\"Series\":\"I\", \"X\":5.0, \"Y\":5.68},\n",
            "\n",
            "  {\"Series\":\"II\", \"X\":10.0, \"Y\":9.14},\n",
            "  {\"Series\":\"II\", \"X\":8.0, \"Y\":8.14},\n",
            "  {\"Series\":\"II\", \"X\":13.0, \"Y\":8.74},\n",
            "  {\"Series\":\"II\", \"X\":9.0, \"Y\":8.77},\n",
            "  {\"Series\":\"II\", \"X\":11.0, \"Y\":9.26},\n",
            "  {\"Series\":\"II\", \"X\":14.0, \"Y\":8.10},\n",
            "  {\"Series\":\"II\", \"X\":6.0, \"Y\":6.13},\n",
            "  {\"Series\":\"II\", \"X\":4.0, \"Y\":3.10},\n",
            "  {\"Series\":\"II\", \"X\":12.0, \"Y\":9.13},\n",
            "  {\"Series\":\"II\", \"X\":7.0, \"Y\":7.26},\n",
            "  {\"Series\":\"II\", \"X\":5.0, \"Y\":4.74},\n",
            "\n",
            "  {\"Series\":\"III\", \"X\":10.0, \"Y\":7.46},\n",
            "  {\"Series\":\"III\", \"X\":8.0, \"Y\":6.77},\n",
            "  {\"Series\":\"III\", \"X\":13.0, \"Y\":12.74},\n",
            "  {\"Series\":\"III\", \"X\":9.0, \"Y\":7.11},\n",
            "  {\"Series\":\"III\", \"X\":11.0, \"Y\":7.81},\n",
            "  {\"Series\":\"III\", \"X\":14.0, \"Y\":8.84},\n",
            "  {\"Series\":\"III\", \"X\":6.0, \"Y\":6.08},\n",
            "  {\"Series\":\"III\", \"X\":4.0, \"Y\":5.39},\n",
            "  {\"Series\":\"III\", \"X\":12.0, \"Y\":8.15},\n",
            "  {\"Series\":\"III\", \"X\":7.0, \"Y\":6.42},\n",
            "  {\"Series\":\"III\", \"X\":5.0, \"Y\":5.73},\n",
            "\n",
            "  {\"Series\":\"IV\", \"X\":8.0, \"Y\":6.58},\n",
            "  {\"Series\":\"IV\", \"X\":8.0, \"Y\":5.76},\n",
            "  {\"Series\":\"IV\", \"X\":8.0, \"Y\":7.71},\n",
            "  {\"Series\":\"IV\", \"X\":8.0, \"Y\":8.84},\n",
            "  {\"Series\":\"IV\", \"X\":8.0, \"Y\":8.47},\n",
            "  {\"Series\":\"IV\", \"X\":8.0, \"Y\":7.04},\n",
            "  {\"Series\":\"IV\", \"X\":8.0, \"Y\":5.25},\n",
            "  {\"Series\":\"IV\", \"X\":19.0, \"Y\":12.50},\n",
            "  {\"Series\":\"IV\", \"X\":8.0, \"Y\":5.56},\n",
            "  {\"Series\":\"IV\", \"X\":8.0, \"Y\":7.91},\n",
            "  {\"Series\":\"IV\", \"X\":8.0, \"Y\":6.89}\n",
            "]\n"
          ]
        }
      ]
    },
    {
      "cell_type": "code",
      "metadata": {
        "colab": {
          "base_uri": "https://localhost:8080/"
        },
        "id": "8PatvXOUv0Vu",
        "outputId": "82fa3531-3ea7-42f8-832d-80339d22abf5"
      },
      "source": [
        "!ls -lf sample_data"
      ],
      "execution_count": null,
      "outputs": [
        {
          "output_type": "stream",
          "name": "stdout",
          "text": [
            "anscombe.json  ..\t  california_housing_test.csv\tmnist_test.csv\n",
            ".\t       README.md  california_housing_train.csv\tmnist_train_small.csv\n"
          ]
        }
      ]
    },
    {
      "cell_type": "markdown",
      "metadata": {
        "id": "Dp8ir9PtJrl7"
      },
      "source": [
        ""
      ]
    },
    {
      "cell_type": "code",
      "metadata": {
        "colab": {
          "base_uri": "https://localhost:8080/"
        },
        "id": "8Po2h1zVmQLp",
        "outputId": "bdae4699-70fd-403d-96d8-842711dc567e"
      },
      "source": [
        "print \n",
        "\n",
        "\n"
      ],
      "execution_count": null,
      "outputs": [
        {
          "output_type": "execute_result",
          "data": {
            "text/plain": [
              "<function print>"
            ]
          },
          "metadata": {},
          "execution_count": 16
        }
      ]
    }
  ]
}